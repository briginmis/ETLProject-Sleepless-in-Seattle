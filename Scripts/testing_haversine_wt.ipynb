{
 "cells": [
  {
   "cell_type": "code",
   "execution_count": 2,
   "metadata": {},
   "outputs": [],
   "source": [
    "import pandas as pd"
   ]
  },
  {
   "cell_type": "code",
   "execution_count": 3,
   "metadata": {},
   "outputs": [],
   "source": [
    "def haversine(lon1, lat1, lon2, lat2):\n",
    "    lon1, lat1, lon2, lat2 = map(radians, [lon1, lat1, lon2, lat2])\n",
    "    # haversine formula\n",
    "    dlon = lon2 - lon1\n",
    "    dlat = lat2 - lat1\n",
    "    a = sin(dlat/2)**2 + cos(lat1) * cos(lat2) * sin(dlon/2)**2\n",
    "    c = 2 * asin(sqrt(a))\n",
    "    r = 6371 # Radius of earth in kilometers. Use 3956 for miles\n",
    "    return round(c * r,1)"
   ]
  },
  {
   "cell_type": "code",
   "execution_count": 9,
   "metadata": {},
   "outputs": [
    {
     "data": {
      "text/html": [
       "<div>\n",
       "<style scoped>\n",
       "    .dataframe tbody tr th:only-of-type {\n",
       "        vertical-align: middle;\n",
       "    }\n",
       "\n",
       "    .dataframe tbody tr th {\n",
       "        vertical-align: top;\n",
       "    }\n",
       "\n",
       "    .dataframe thead th {\n",
       "        text-align: right;\n",
       "    }\n",
       "</style>\n",
       "<table border=\"1\" class=\"dataframe\">\n",
       "  <thead>\n",
       "    <tr style=\"text-align: right;\">\n",
       "      <th></th>\n",
       "      <th>name</th>\n",
       "      <th>latitude</th>\n",
       "      <th>longitude</th>\n",
       "    </tr>\n",
       "  </thead>\n",
       "  <tbody>\n",
       "    <tr>\n",
       "      <th>0</th>\n",
       "      <td>place1</td>\n",
       "      <td>39.952584</td>\n",
       "      <td>-75.165222</td>\n",
       "    </tr>\n",
       "    <tr>\n",
       "      <th>1</th>\n",
       "      <td>place2</td>\n",
       "      <td>39.952343</td>\n",
       "      <td>-75.200000</td>\n",
       "    </tr>\n",
       "  </tbody>\n",
       "</table>\n",
       "</div>"
      ],
      "text/plain": [
       "     name   latitude  longitude\n",
       "0  place1  39.952584 -75.165222\n",
       "1  place2  39.952343 -75.200000"
      ]
     },
     "execution_count": 9,
     "metadata": {},
     "output_type": "execute_result"
    }
   ],
   "source": [
    "attractions_df = pd.DataFrame({\n",
    "        \"name\": [\"place1\",\"place2\"],\n",
    "        \"latitude\": [39.9525839,39.9523432],\n",
    "        \"longitude\":[-75.1652215,-75.1999999]\n",
    "    })\n",
    "attractions_df"
   ]
  },
  {
   "cell_type": "code",
   "execution_count": 10,
   "metadata": {},
   "outputs": [
    {
     "data": {
      "text/html": [
       "<div>\n",
       "<style scoped>\n",
       "    .dataframe tbody tr th:only-of-type {\n",
       "        vertical-align: middle;\n",
       "    }\n",
       "\n",
       "    .dataframe tbody tr th {\n",
       "        vertical-align: top;\n",
       "    }\n",
       "\n",
       "    .dataframe thead th {\n",
       "        text-align: right;\n",
       "    }\n",
       "</style>\n",
       "<table border=\"1\" class=\"dataframe\">\n",
       "  <thead>\n",
       "    <tr style=\"text-align: right;\">\n",
       "      <th></th>\n",
       "      <th>place</th>\n",
       "      <th>thing1</th>\n",
       "      <th>latitude</th>\n",
       "      <th>longitude</th>\n",
       "    </tr>\n",
       "  </thead>\n",
       "  <tbody>\n",
       "    <tr>\n",
       "      <th>0</th>\n",
       "      <td>aibrnb1</td>\n",
       "      <td>stuff</td>\n",
       "      <td>39.952232</td>\n",
       "      <td>-75.125235</td>\n",
       "    </tr>\n",
       "    <tr>\n",
       "      <th>1</th>\n",
       "      <td>airbnb2</td>\n",
       "      <td>stuff</td>\n",
       "      <td>39.950123</td>\n",
       "      <td>-75.160000</td>\n",
       "    </tr>\n",
       "  </tbody>\n",
       "</table>\n",
       "</div>"
      ],
      "text/plain": [
       "     place thing1   latitude  longitude\n",
       "0  aibrnb1  stuff  39.952232 -75.125235\n",
       "1  airbnb2  stuff  39.950123 -75.160000"
      ]
     },
     "execution_count": 10,
     "metadata": {},
     "output_type": "execute_result"
    }
   ],
   "source": [
    "addresses_df = pd.DataFrame({\n",
    "        \"place\": [\"aibrnb1\",\"airbnb2\"],\n",
    "        \"thing1\": [\"stuff\",\"stuff\"],\n",
    "        \"latitude\": [39.9522322,39.9501234],\n",
    "        \"longitude\":[-75.12523533,-75.160000]\n",
    "        \n",
    "    })\n",
    "addresses_df"
   ]
  },
  {
   "cell_type": "code",
   "execution_count": 11,
   "metadata": {},
   "outputs": [
    {
     "data": {
      "text/html": [
       "<div>\n",
       "<style scoped>\n",
       "    .dataframe tbody tr th:only-of-type {\n",
       "        vertical-align: middle;\n",
       "    }\n",
       "\n",
       "    .dataframe tbody tr th {\n",
       "        vertical-align: top;\n",
       "    }\n",
       "\n",
       "    .dataframe thead th {\n",
       "        text-align: right;\n",
       "    }\n",
       "</style>\n",
       "<table border=\"1\" class=\"dataframe\">\n",
       "  <thead>\n",
       "    <tr style=\"text-align: right;\">\n",
       "      <th></th>\n",
       "      <th>place</th>\n",
       "      <th>thing1</th>\n",
       "      <th>latitude</th>\n",
       "      <th>longitude</th>\n",
       "      <th>distance from place1</th>\n",
       "      <th>distance from place2</th>\n",
       "    </tr>\n",
       "  </thead>\n",
       "  <tbody>\n",
       "    <tr>\n",
       "      <th>0</th>\n",
       "      <td>aibrnb1</td>\n",
       "      <td>stuff</td>\n",
       "      <td>39.952232</td>\n",
       "      <td>-75.125235</td>\n",
       "      <td>3.4</td>\n",
       "      <td>6.4</td>\n",
       "    </tr>\n",
       "    <tr>\n",
       "      <th>1</th>\n",
       "      <td>airbnb2</td>\n",
       "      <td>stuff</td>\n",
       "      <td>39.950123</td>\n",
       "      <td>-75.160000</td>\n",
       "      <td>0.5</td>\n",
       "      <td>3.4</td>\n",
       "    </tr>\n",
       "  </tbody>\n",
       "</table>\n",
       "</div>"
      ],
      "text/plain": [
       "     place thing1   latitude  longitude  distance from place1  \\\n",
       "0  aibrnb1  stuff  39.952232 -75.125235                   3.4   \n",
       "1  airbnb2  stuff  39.950123 -75.160000                   0.5   \n",
       "\n",
       "   distance from place2  \n",
       "0                   6.4  \n",
       "1                   3.4  "
      ]
     },
     "execution_count": 11,
     "metadata": {},
     "output_type": "execute_result"
    }
   ],
   "source": [
    "# Add Distance\n",
    "from math import radians, cos, sin, asin, sqrt\n",
    "\n",
    "# Read in the philly coorindates variables from another Jupyter Notebook\n",
    "\n",
    "for index,rowx in attractions_df.iterrows():\n",
    "    addresses_df[f\"distance from {rowx[0]}\"]=addresses_df.apply(lambda row: haversine(\n",
    "                                            rowx[2], \n",
    "                                            rowx[1], \n",
    "                                            row['longitude'], \n",
    "                                            row['latitude']), axis=1)\n",
    "addresses_df.head(2)"
   ]
  },
  {
   "cell_type": "code",
   "execution_count": 21,
   "metadata": {},
   "outputs": [
    {
     "data": {
      "text/plain": [
       "[-75.1652215, -75.1651999]"
      ]
     },
     "execution_count": 21,
     "metadata": {},
     "output_type": "execute_result"
    }
   ],
   "source": []
  },
  {
   "cell_type": "code",
   "execution_count": 26,
   "metadata": {},
   "outputs": [
    {
     "ename": "AttributeError",
     "evalue": "'tuple' object has no attribute 'apply'",
     "output_type": "error",
     "traceback": [
      "\u001b[1;31m---------------------------------------------------------------------------\u001b[0m",
      "\u001b[1;31mAttributeError\u001b[0m                            Traceback (most recent call last)",
      "\u001b[1;32m~\\AppData\\Local\\Temp/ipykernel_21092/2123544577.py\u001b[0m in \u001b[0;36m<module>\u001b[1;34m\u001b[0m\n\u001b[0;32m      7\u001b[0m     \u001b[0mlist_of_lng_for_this_row\u001b[0m\u001b[1;33m=\u001b[0m\u001b[1;33m[\u001b[0m\u001b[1;33m]\u001b[0m\u001b[1;33m\u001b[0m\u001b[1;33m\u001b[0m\u001b[0m\n\u001b[0;32m      8\u001b[0m     \u001b[1;32mfor\u001b[0m \u001b[0meachrow\u001b[0m \u001b[1;32min\u001b[0m \u001b[0mattractions_df\u001b[0m\u001b[1;33m.\u001b[0m\u001b[0miterrows\u001b[0m\u001b[1;33m(\u001b[0m\u001b[1;33m)\u001b[0m\u001b[1;33m:\u001b[0m\u001b[1;33m\u001b[0m\u001b[1;33m\u001b[0m\u001b[0m\n\u001b[1;32m----> 9\u001b[1;33m         list_of_lng_for_this_row.append(eacha.apply(lambda row: haversine(\n\u001b[0m\u001b[0;32m     10\u001b[0m                                             \u001b[0meachrow\u001b[0m\u001b[1;33m[\u001b[0m\u001b[1;34m'longitude'\u001b[0m\u001b[1;33m]\u001b[0m\u001b[1;33m,\u001b[0m\u001b[1;33m\u001b[0m\u001b[1;33m\u001b[0m\u001b[0m\n\u001b[0;32m     11\u001b[0m                                             \u001b[0meachrow\u001b[0m\u001b[1;33m[\u001b[0m\u001b[1;34m'latitude'\u001b[0m\u001b[1;33m]\u001b[0m\u001b[1;33m,\u001b[0m\u001b[1;33m\u001b[0m\u001b[1;33m\u001b[0m\u001b[0m\n",
      "\u001b[1;31mAttributeError\u001b[0m: 'tuple' object has no attribute 'apply'"
     ]
    }
   ],
   "source": [
    "# Add Distance\n",
    "from math import radians, cos, sin, asin, sqrt\n",
    "from Haversine_Function import haversine\n",
    "# Read in the philly coorindates variables from another Jupyter Notebook\n",
    "\n",
    "for eachaddressesrow in addresses_df.iterrows():\n",
    "    list_of_lng_for_this_row=[]\n",
    "    for eachattraction in attractions_df.iterrows():\n",
    "        list_of_lng_for_this_row.append(eachaddressesrow.apply(lambda row: haversine(\n",
    "                                            eachrow['longitude'], \n",
    "                                            eachrow['latitude'], \n",
    "                                            row['longitude'], \n",
    "                                            row['latitude']), axis=1)\n",
    "    )\n",
    "    addresses_df[\"distance\"]=list_of_lng_for_this_row[0]\n",
    "\n"
   ]
  }
 ],
 "metadata": {
  "interpreter": {
   "hash": "ff8057c7ebda6faa143cc8c59f248a16837b2e53a6bd48006e7be780c9775e7b"
  },
  "kernelspec": {
   "display_name": "Python 3.7.11 64-bit ('PythonData': conda)",
   "language": "python",
   "name": "python3"
  },
  "language_info": {
   "codemirror_mode": {
    "name": "ipython",
    "version": 3
   },
   "file_extension": ".py",
   "mimetype": "text/x-python",
   "name": "python",
   "nbconvert_exporter": "python",
   "pygments_lexer": "ipython3",
   "version": "3.7.11"
  },
  "orig_nbformat": 4
 },
 "nbformat": 4,
 "nbformat_minor": 2
}
