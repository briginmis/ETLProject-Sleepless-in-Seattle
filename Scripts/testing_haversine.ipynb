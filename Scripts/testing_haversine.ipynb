{
 "cells": [
  {
   "cell_type": "code",
   "execution_count": 1,
   "metadata": {},
   "outputs": [],
   "source": [
    "import pandas as pd"
   ]
  },
  {
   "cell_type": "code",
   "execution_count": 2,
   "metadata": {},
   "outputs": [
    {
     "data": {
      "text/html": [
       "<div>\n",
       "<style scoped>\n",
       "    .dataframe tbody tr th:only-of-type {\n",
       "        vertical-align: middle;\n",
       "    }\n",
       "\n",
       "    .dataframe tbody tr th {\n",
       "        vertical-align: top;\n",
       "    }\n",
       "\n",
       "    .dataframe thead th {\n",
       "        text-align: right;\n",
       "    }\n",
       "</style>\n",
       "<table border=\"1\" class=\"dataframe\">\n",
       "  <thead>\n",
       "    <tr style=\"text-align: right;\">\n",
       "      <th></th>\n",
       "      <th>name</th>\n",
       "      <th>latitude</th>\n",
       "      <th>longitude</th>\n",
       "    </tr>\n",
       "  </thead>\n",
       "  <tbody>\n",
       "    <tr>\n",
       "      <th>0</th>\n",
       "      <td>place1</td>\n",
       "      <td>39.952584</td>\n",
       "      <td>-75.165222</td>\n",
       "    </tr>\n",
       "    <tr>\n",
       "      <th>1</th>\n",
       "      <td>place2</td>\n",
       "      <td>39.952343</td>\n",
       "      <td>-75.165200</td>\n",
       "    </tr>\n",
       "  </tbody>\n",
       "</table>\n",
       "</div>"
      ],
      "text/plain": [
       "     name   latitude  longitude\n",
       "0  place1  39.952584 -75.165222\n",
       "1  place2  39.952343 -75.165200"
      ]
     },
     "execution_count": 2,
     "metadata": {},
     "output_type": "execute_result"
    }
   ],
   "source": [
    "attractions_df = pd.DataFrame({\n",
    "        \"name\": [\"place1\",\"place2\"],\n",
    "        \"latitude\": [39.9525839,39.9523432],\n",
    "        \"longitude\":[-75.1652215,-75.1651999]\n",
    "    })\n",
    "attractions_df"
   ]
  },
  {
   "cell_type": "code",
   "execution_count": 3,
   "metadata": {},
   "outputs": [
    {
     "data": {
      "text/html": [
       "<div>\n",
       "<style scoped>\n",
       "    .dataframe tbody tr th:only-of-type {\n",
       "        vertical-align: middle;\n",
       "    }\n",
       "\n",
       "    .dataframe tbody tr th {\n",
       "        vertical-align: top;\n",
       "    }\n",
       "\n",
       "    .dataframe thead th {\n",
       "        text-align: right;\n",
       "    }\n",
       "</style>\n",
       "<table border=\"1\" class=\"dataframe\">\n",
       "  <thead>\n",
       "    <tr style=\"text-align: right;\">\n",
       "      <th></th>\n",
       "      <th>place</th>\n",
       "      <th>thing1</th>\n",
       "      <th>latitude</th>\n",
       "      <th>longitude</th>\n",
       "    </tr>\n",
       "  </thead>\n",
       "  <tbody>\n",
       "    <tr>\n",
       "      <th>0</th>\n",
       "      <td>aibrnb1</td>\n",
       "      <td>stuff</td>\n",
       "      <td>39.952232</td>\n",
       "      <td>-75.125235</td>\n",
       "    </tr>\n",
       "    <tr>\n",
       "      <th>1</th>\n",
       "      <td>airbnb2</td>\n",
       "      <td>stuff</td>\n",
       "      <td>39.950123</td>\n",
       "      <td>-75.160000</td>\n",
       "    </tr>\n",
       "  </tbody>\n",
       "</table>\n",
       "</div>"
      ],
      "text/plain": [
       "     place thing1   latitude  longitude\n",
       "0  aibrnb1  stuff  39.952232 -75.125235\n",
       "1  airbnb2  stuff  39.950123 -75.160000"
      ]
     },
     "execution_count": 3,
     "metadata": {},
     "output_type": "execute_result"
    }
   ],
   "source": [
    "addresses_df = pd.DataFrame({\n",
    "        \"place\": [\"aibrnb1\",\"airbnb2\"],\n",
    "        \"thing1\": [\"stuff\",\"stuff\"],\n",
    "        \"latitude\": [39.9522322,39.9501234],\n",
    "        \"longitude\":[-75.12523533,-75.160000]\n",
    "        \n",
    "    })\n",
    "addresses_df"
   ]
  },
  {
   "cell_type": "code",
   "execution_count": 4,
   "metadata": {},
   "outputs": [
    {
     "data": {
      "text/html": [
       "<div>\n",
       "<style scoped>\n",
       "    .dataframe tbody tr th:only-of-type {\n",
       "        vertical-align: middle;\n",
       "    }\n",
       "\n",
       "    .dataframe tbody tr th {\n",
       "        vertical-align: top;\n",
       "    }\n",
       "\n",
       "    .dataframe thead th {\n",
       "        text-align: right;\n",
       "    }\n",
       "</style>\n",
       "<table border=\"1\" class=\"dataframe\">\n",
       "  <thead>\n",
       "    <tr style=\"text-align: right;\">\n",
       "      <th></th>\n",
       "      <th>place</th>\n",
       "      <th>thing1</th>\n",
       "      <th>latitude</th>\n",
       "      <th>longitude</th>\n",
       "      <th>distance</th>\n",
       "    </tr>\n",
       "  </thead>\n",
       "  <tbody>\n",
       "    <tr>\n",
       "      <th>0</th>\n",
       "      <td>aibrnb1</td>\n",
       "      <td>stuff</td>\n",
       "      <td>39.952232</td>\n",
       "      <td>-75.125235</td>\n",
       "      <td>3.4</td>\n",
       "    </tr>\n",
       "    <tr>\n",
       "      <th>1</th>\n",
       "      <td>airbnb2</td>\n",
       "      <td>stuff</td>\n",
       "      <td>39.950123</td>\n",
       "      <td>-75.160000</td>\n",
       "      <td>0.5</td>\n",
       "    </tr>\n",
       "  </tbody>\n",
       "</table>\n",
       "</div>"
      ],
      "text/plain": [
       "     place thing1   latitude  longitude  distance\n",
       "0  aibrnb1  stuff  39.952232 -75.125235       3.4\n",
       "1  airbnb2  stuff  39.950123 -75.160000       0.5"
      ]
     },
     "execution_count": 4,
     "metadata": {},
     "output_type": "execute_result"
    }
   ],
   "source": [
    "# Add Distance\n",
    "from math import radians, cos, sin, asin, sqrt\n",
    "from Haversine_Function import haversine\n",
    "\n",
    "# Read in the philly coorindates variables from another Jupyter Notebook\n",
    "\n",
    "for index,eachaddressesrow in addresses_df.iterrows():\n",
    "    list_of_lng_for_this_row=[]\n",
    "    for index,eachattraction in attractions_df.iterrows():\n",
    "        list_of_lng_for_this_row.append(addresses_df.apply(lambda row: haversine(\n",
    "                                            eachattraction['longitude'], \n",
    "                                            eachattraction['latitude'], \n",
    "                                            row['longitude'], \n",
    "                                            row['latitude']), axis=1)\n",
    "    )\n",
    "    addresses_df[\"distance\"]=sum(list_of_lng_for_this_row)/len(list_of_lng_for_this_row)\n",
    "addresses_df"
   ]
  }
 ],
 "metadata": {
  "interpreter": {
   "hash": "ff8057c7ebda6faa143cc8c59f248a16837b2e53a6bd48006e7be780c9775e7b"
  },
  "kernelspec": {
   "display_name": "Python 3.7.11 64-bit ('PythonData': conda)",
   "language": "python",
   "name": "python3"
  },
  "language_info": {
   "name": "python",
   "version": "3.7.11"
  },
  "orig_nbformat": 4
 },
 "nbformat": 4,
 "nbformat_minor": 2
}
