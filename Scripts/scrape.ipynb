{
 "cells": [
  {
   "cell_type": "code",
   "execution_count": 2,
   "metadata": {},
   "outputs": [],
   "source": [
    "# Dependencies\n",
    "from bs4 import BeautifulSoup\n",
    "import requests\n",
    "from splinter import Browser\n",
    "from webdriver_manager.chrome import ChromeDriverManager\n",
    "import pandas as pd\n",
    "import pymongo\n",
    "import json\n",
    "import pprint\n",
    "\n",
    "# Google developer API key\n",
    "# from config import gkey\n",
    "gkey = ''"
   ]
  },
  {
   "cell_type": "code",
   "execution_count": 3,
   "metadata": {},
   "outputs": [
    {
     "name": "stderr",
     "output_type": "stream",
     "text": [
      "\n",
      "\n",
      "====== WebDriver manager ======\n",
      "Current google-chrome version is 96.0.4664\n",
      "Get LATEST chromedriver version for 96.0.4664 google-chrome\n",
      "Trying to download new driver from https://chromedriver.storage.googleapis.com/96.0.4664.45/chromedriver_win32.zip\n",
      "Driver has been saved in cache [C:\\Users\\walto\\.wdm\\drivers\\chromedriver\\win32\\96.0.4664.45]\n"
     ]
    }
   ],
   "source": [
    "executable_path = {'executable_path': ChromeDriverManager().install()}\n",
    "browser = Browser('chrome', **executable_path, headless=False)"
   ]
  },
  {
   "cell_type": "code",
   "execution_count": 4,
   "metadata": {},
   "outputs": [],
   "source": [
    "url = 'https://visitseattle.org/things-to-do/sightseeing/top-25-attractions/'\n",
    "browser.visit(url)\n",
    "html = browser.html\n",
    "soup = BeautifulSoup(html, 'html.parser')"
   ]
  },
  {
   "cell_type": "code",
   "execution_count": 5,
   "metadata": {},
   "outputs": [],
   "source": [
    "a=soup.find_all('div', class_=\"medium-7\")\n",
    "attractions = []\n",
    "for x in a:\n",
    "    s= x.find('h3').text\n",
    "    attractions.append(s)\n",
    "# Close splinter window\n",
    "browser.quit()"
   ]
  },
  {
   "cell_type": "code",
   "execution_count": 6,
   "metadata": {},
   "outputs": [
    {
     "name": "stdout",
     "output_type": "stream",
     "text": [
      "Space Needle\n",
      "47.6205063\n",
      "-122.3492774\n",
      "------------------\n",
      "Seattle Center\n",
      "47.6212504\n",
      "-122.349689\n",
      "------------------\n",
      "Museum of Pop Culture\n",
      "47.6214824\n",
      "-122.3481245\n",
      "------------------\n",
      "Pacific Science Center\n",
      "47.6189535\n",
      "-122.351576\n",
      "------------------\n",
      "Chihuly Garden and Glass\n",
      "47.6205599\n",
      "-122.3504476\n",
      "------------------\n",
      "Pacific Northwest Ballet\n",
      "47.6241852\n",
      "-122.3514828\n",
      "------------------\n",
      "Pike Place Market\n",
      "47.6096559\n",
      "-122.3421521\n",
      "------------------\n",
      "Seattle Art Museum\n",
      "47.6075253\n",
      "-122.3379599\n",
      "------------------\n",
      "Central Public Library\n",
      "1.2972003\n",
      "103.8545058\n",
      "------------------\n",
      "Smith Tower\n",
      "47.6018528\n",
      "-122.3318583\n",
      "------------------\n",
      "Seattle Aquarium\n",
      "47.6074002\n",
      "-122.3429558\n",
      "------------------\n",
      "Anacortes Ferry Terminal\n",
      "48.5067623\n",
      "-122.6783634\n",
      "------------------\n",
      "The Seattle Great Wheel\n",
      "47.6061342\n",
      "-122.3425246\n",
      "------------------\n",
      "The Museum of Flight\n",
      "47.5185379\n",
      "-122.2968545\n",
      "------------------\n",
      "Woodinville Wine Country\n",
      "47.7521171\n",
      "-122.1584838\n",
      "------------------\n",
      "Boeing Future of Flight​\n",
      "47.9212293\n",
      "-122.2901597\n",
      "------------------\n",
      "T-Mobile Park\n",
      "47.5914026\n",
      "-122.3325085\n",
      "------------------\n",
      "Kerry Park\n",
      "47.6294692\n",
      "-122.3599224\n",
      "------------------\n",
      "Pioneer Square\n",
      "47.6015184\n",
      "-122.3342975\n",
      "------------------\n",
      "Seattle Chinatown-International District\n",
      "47.5987122\n",
      "-122.3239762\n",
      "------------------\n",
      "Ballard (Hiram M. Chittenden) Locks\n",
      "47.66550429999999\n",
      "-122.3971838\n",
      "------------------\n",
      "South Lake Union\n",
      "47.6255703\n",
      "-122.3343877\n",
      "------------------\n",
      "Kenmore Air\n",
      "47.7569221\n",
      "-122.2579096\n",
      "------------------\n",
      "Museum of History & Industry (MOHAI)\n",
      "47.6275253\n",
      "-122.3365631\n",
      "------------------\n",
      "Starbucks Reserve Roastery\n",
      "47.6140308\n",
      "-122.3280548\n",
      "------------------\n"
     ]
    }
   ],
   "source": [
    "attraction_details = []\n",
    "\n",
    "# base url\n",
    "base_url = \"https://maps.googleapis.com/maps/api/place/findplacefromtext/json\"\n",
    "\n",
    "for attraction in attractions:\n",
    "    # set up a parameters dictionary\n",
    "    params = {\n",
    "        \"locationbias\": \"point:47.6062, 122.3321\",\n",
    "        \"input\": attraction,\n",
    "        \"inputtype\":\"textquery\",\n",
    "        \"key\": gkey,\n",
    "        \"fields\":\"name,geometry\"\n",
    "        }\n",
    "    # run a request using our params dictionary\n",
    "    response = requests.get(base_url, params=params)\n",
    "    # convert response to json\n",
    "    places_data = response.json()\n",
    "    print(places_data[\"candidates\"][0][\"name\"])\n",
    "    print(places_data[\"candidates\"][0][\"geometry\"][\"location\"]['lat'])\n",
    "    print(places_data[\"candidates\"][0][\"geometry\"][\"location\"]['lng'])\n",
    "    print(\"------------------\")\n",
    "    attraction_details.append({\"name\":places_data[\"candidates\"][0][\"name\"],\n",
    "                                \"lat\":places_data[\"candidates\"][0][\"geometry\"][\"location\"]['lat'],\n",
    "                                \"lng\":places_data[\"candidates\"][0][\"geometry\"][\"location\"]['lng']})"
   ]
  },
  {
   "cell_type": "code",
   "execution_count": 10,
   "metadata": {},
   "outputs": [],
   "source": [
    "df = pd.DataFrame(data=attraction_details)\n",
    "df.to_csv('../Resources/Attractions.csv', index=False)"
   ]
  }
 ],
 "metadata": {
  "interpreter": {
   "hash": "adb23f67c4ccb203e12629f1c11767436980cb58129140759442da09bf0b2380"
  },
  "kernelspec": {
   "display_name": "Python 3.7.11 64-bit ('PythonData': conda)",
   "language": "python",
   "name": "python3"
  },
  "language_info": {
   "codemirror_mode": {
    "name": "ipython",
    "version": 3
   },
   "file_extension": ".py",
   "mimetype": "text/x-python",
   "name": "python",
   "nbconvert_exporter": "python",
   "pygments_lexer": "ipython3",
   "version": "3.7.11"
  },
  "orig_nbformat": 4
 },
 "nbformat": 4,
 "nbformat_minor": 2
}
