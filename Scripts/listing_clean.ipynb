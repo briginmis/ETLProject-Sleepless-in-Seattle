{
 "cells": [
  {
   "cell_type": "code",
   "execution_count": 1,
   "metadata": {},
   "outputs": [],
   "source": [
    "import pandas as pd\n",
    "import cleaning_functions as cf\n",
    "import warnings\n",
    "warnings.filterwarnings('ignore')\n",
    "\n",
    "pd.set_option(\"display.max_columns\", None)"
   ]
  },
  {
   "cell_type": "code",
   "execution_count": 2,
   "metadata": {},
   "outputs": [],
   "source": [
    "df_all = pd.read_csv(\"../Resources/listings.csv\")"
   ]
  },
  {
   "cell_type": "code",
   "execution_count": 3,
   "metadata": {},
   "outputs": [],
   "source": [
    "cf.clean_all(df_all)"
   ]
  },
  {
   "cell_type": "code",
   "execution_count": 4,
   "metadata": {},
   "outputs": [],
   "source": [
    "df_Property=df_all[['id',\n",
    "                'host_id',\n",
    "                'listing_url',\n",
    "                'name',\n",
    "                'property_type',\n",
    "                'room_type',\n",
    "                'accommodates',\n",
    "                'bathrooms',\n",
    "                'bedrooms',\n",
    "                'beds',\n",
    "                'bed_type',\n",
    "                'square_feet',\n",
    "                'description',\n",
    "                'notes',\n",
    "                'transit',\n",
    "                'picture_url',\n",
    "                'guests_included',\n",
    "                'minimum_nights',\n",
    "                'maximum_nights',\n",
    "                'calendar_updated',\n",
    "                'instant_bookable']]\n",
    "                \n",
    "df_Address=df_all[['id',\n",
    "            'country_code',\n",
    "            'country',\n",
    "            'state',\n",
    "            'city',\n",
    "            'zipcode',\n",
    "            'smart_location',\n",
    "            'neighbourhood',\n",
    "            'street',\n",
    "            'latitude',\n",
    "            'longitude',\n",
    "            'is_location_exact']]\n",
    "\n",
    "df_host=df_all[['host_id',\n",
    "            'host_url',\n",
    "            'host_name',\n",
    "            'host_since',\n",
    "            'host_about',\n",
    "            'host_is_superhost',\n",
    "            'host_picture_url',\n",
    "            'host_listings_count',\n",
    "            'host_identity_verified',\n",
    "            'host_location',\n",
    "            'host_response_time',\n",
    "            'host_response_rate',\n",
    "            'host_acceptance_rate',\n",
    "            'host_neighbourhood']]\n",
    "\n",
    "\n",
    "\n",
    "df_review_stats=df_all[['id',\n",
    "                'number_of_reviews',\n",
    "                'reviews_per_month',\n",
    "                'first_review',\n",
    "                'last_review',\n",
    "                'review_scores_rating',\n",
    "                'review_scores_accuracy',\n",
    "                'review_scores_cleanliness',\n",
    "                'review_scores_checkin',\n",
    "                'review_scores_communication',\n",
    "                'review_scores_location',\n",
    "                'review_scores_value']]\n",
    "\n",
    "df_Pricing=df_all[['id',\n",
    "                'price',\n",
    "                'weekly_price',\n",
    "                'monthly_price',\n",
    "                'security_deposit',\n",
    "                'cleaning_fee',\n",
    "                'extra_people',\n",
    "                'cancellation_policy']]\n",
    "\n",
    "df_Availability = df_all[['id',\n",
    "                        'has_availability',\n",
    "                        'availability_30',\n",
    "                        'availability_60',\n",
    "                        'availability_90',\n",
    "                        'availability_365']]"
   ]
  },
  {
   "cell_type": "code",
   "execution_count": 5,
   "metadata": {},
   "outputs": [],
   "source": [
    "df_Property = df_Property.rename(columns={\"id\": \"listing_id\"})\n",
    "df_Address=df_Address.rename(columns={\"id\": \"listing_id\"})\n",
    "df_review_stats=df_review_stats.rename(columns={\"id\": \"listing_id\"})\n",
    "df_Pricing=df_Pricing.rename(columns={\"id\": \"listing_id\"})\n",
    "df_Availability=df_Availability.rename(columns={\"id\": \"listing_id\"})"
   ]
  },
  {
   "cell_type": "code",
   "execution_count": 6,
   "metadata": {},
   "outputs": [],
   "source": [
    "df_Property.to_csv('../Resources/Property_clean.csv', index=False)\n",
    "df_Address.to_csv('../Resources/Address_clean.csv', index=False)\n",
    "df_host.to_csv('../Resources/Host_clean.csv', index=False)\n",
    "df_review_stats.to_csv('../Resources/Review_Statistics_clean.csv', index=False)\n",
    "df_Pricing.to_csv('../Resources/Pricing_clean.csv', index=False)\n",
    "df_Availability.to_csv('../Resources/Availability.csv', index=False)\n"
   ]
  }
 ],
 "metadata": {
  "interpreter": {
   "hash": "adb23f67c4ccb203e12629f1c11767436980cb58129140759442da09bf0b2380"
  },
  "kernelspec": {
   "display_name": "Python 3 (ipykernel)",
   "language": "python",
   "name": "python3"
  },
  "language_info": {
   "codemirror_mode": {
    "name": "ipython",
    "version": 3
   },
   "file_extension": ".py",
   "mimetype": "text/x-python",
   "name": "python",
   "nbconvert_exporter": "python",
   "pygments_lexer": "ipython3",
   "version": "3.7.11"
  }
 },
 "nbformat": 4,
 "nbformat_minor": 2
}
