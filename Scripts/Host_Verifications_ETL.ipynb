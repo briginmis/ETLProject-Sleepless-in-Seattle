{
 "cells": [
  {
   "cell_type": "code",
   "execution_count": 56,
   "id": "2b0430a6",
   "metadata": {},
   "outputs": [
    {
     "data": {
      "text/html": [
       "<div>\n",
       "<style scoped>\n",
       "    .dataframe tbody tr th:only-of-type {\n",
       "        vertical-align: middle;\n",
       "    }\n",
       "\n",
       "    .dataframe tbody tr th {\n",
       "        vertical-align: top;\n",
       "    }\n",
       "\n",
       "    .dataframe thead th {\n",
       "        text-align: right;\n",
       "    }\n",
       "</style>\n",
       "<table border=\"1\" class=\"dataframe\">\n",
       "  <thead>\n",
       "    <tr style=\"text-align: right;\">\n",
       "      <th></th>\n",
       "      <th>host_id</th>\n",
       "      <th>host_verifications</th>\n",
       "    </tr>\n",
       "  </thead>\n",
       "  <tbody>\n",
       "    <tr>\n",
       "      <th>0</th>\n",
       "      <td>956883</td>\n",
       "      <td>['email', 'phone', 'reviews', 'kba']</td>\n",
       "    </tr>\n",
       "    <tr>\n",
       "      <th>1</th>\n",
       "      <td>5177328</td>\n",
       "      <td>['email', 'phone', 'facebook', 'linkedin', 're...</td>\n",
       "    </tr>\n",
       "  </tbody>\n",
       "</table>\n",
       "</div>"
      ],
      "text/plain": [
       "   host_id                                 host_verifications\n",
       "0   956883               ['email', 'phone', 'reviews', 'kba']\n",
       "1  5177328  ['email', 'phone', 'facebook', 'linkedin', 're..."
      ]
     },
     "execution_count": 56,
     "metadata": {},
     "output_type": "execute_result"
    }
   ],
   "source": [
    "import pandas as pd\n",
    "import warnings\n",
    "warnings.filterwarnings('ignore')\n",
    "import dans_functions as tf\n",
    "\n",
    "# read in csv\n",
    "df=pd.read_csv(\"../Resources/listings.csv\")\n",
    "\n",
    "# keep only those columns\n",
    "df = df[['host_id','host_verifications']]\n",
    "df.head(2)"
   ]
  },
  {
   "cell_type": "code",
   "execution_count": 57,
   "id": "0623b43c",
   "metadata": {},
   "outputs": [
    {
     "data": {
      "text/html": [
       "<div>\n",
       "<style scoped>\n",
       "    .dataframe tbody tr th:only-of-type {\n",
       "        vertical-align: middle;\n",
       "    }\n",
       "\n",
       "    .dataframe tbody tr th {\n",
       "        vertical-align: top;\n",
       "    }\n",
       "\n",
       "    .dataframe thead th {\n",
       "        text-align: right;\n",
       "    }\n",
       "</style>\n",
       "<table border=\"1\" class=\"dataframe\">\n",
       "  <thead>\n",
       "    <tr style=\"text-align: right;\">\n",
       "      <th></th>\n",
       "      <th>host_id</th>\n",
       "      <th>host_verifications</th>\n",
       "    </tr>\n",
       "  </thead>\n",
       "  <tbody>\n",
       "    <tr>\n",
       "      <th>0</th>\n",
       "      <td>956883</td>\n",
       "      <td>'email'</td>\n",
       "    </tr>\n",
       "    <tr>\n",
       "      <th>0</th>\n",
       "      <td>956883</td>\n",
       "      <td>'phone'</td>\n",
       "    </tr>\n",
       "    <tr>\n",
       "      <th>0</th>\n",
       "      <td>956883</td>\n",
       "      <td>'reviews'</td>\n",
       "    </tr>\n",
       "    <tr>\n",
       "      <th>0</th>\n",
       "      <td>956883</td>\n",
       "      <td>'kba'</td>\n",
       "    </tr>\n",
       "    <tr>\n",
       "      <th>1</th>\n",
       "      <td>5177328</td>\n",
       "      <td>'email'</td>\n",
       "    </tr>\n",
       "  </tbody>\n",
       "</table>\n",
       "</div>"
      ],
      "text/plain": [
       "   host_id host_verifications\n",
       "0   956883            'email'\n",
       "0   956883            'phone'\n",
       "0   956883          'reviews'\n",
       "0   956883              'kba'\n",
       "1  5177328            'email'"
      ]
     },
     "execution_count": 57,
     "metadata": {},
     "output_type": "execute_result"
    }
   ],
   "source": [
    "df3 = tf.explode_into_rows_in_new_table(input_df = df, id_column = \"host_id\", explode_column = \"host_verifications\")\n",
    "\n",
    "# Preview Output\n",
    "df3.head(5)"
   ]
  },
  {
   "cell_type": "code",
   "execution_count": 58,
   "id": "9843a073",
   "metadata": {},
   "outputs": [],
   "source": [
    "# save as csv\n",
    "df3.to_csv(\"../Resources/Host_Verifications_Clean.csv\")\n"
   ]
  }
 ],
 "metadata": {
  "interpreter": {
   "hash": "ff8057c7ebda6faa143cc8c59f248a16837b2e53a6bd48006e7be780c9775e7b"
  },
  "kernelspec": {
   "display_name": "Python [conda env:PythonData] *",
   "language": "python",
   "name": "python3"
  },
  "language_info": {
   "codemirror_mode": {
    "name": "ipython",
    "version": 3
   },
   "file_extension": ".py",
   "mimetype": "text/x-python",
   "name": "python",
   "nbconvert_exporter": "python",
   "pygments_lexer": "ipython3",
   "version": "3.7.11"
  }
 },
 "nbformat": 4,
 "nbformat_minor": 5
}
